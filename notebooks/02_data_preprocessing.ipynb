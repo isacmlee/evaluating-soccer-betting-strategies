{
 "cells": [
  {
   "cell_type": "code",
   "execution_count": 92,
   "id": "06d91d88-ee5b-4000-9379-39256e28143b",
   "metadata": {},
   "outputs": [],
   "source": [
    "import pandas as pd \n",
    "from thefuzz import process"
   ]
  },
  {
   "cell_type": "code",
   "execution_count": 91,
   "id": "667f7c9e-905f-4160-a6c5-68251ebf76cf",
   "metadata": {},
   "outputs": [],
   "source": [
    "head_to_head_df = pd.read_csv('../data/raw/head_to_head_df.csv')\n",
    "\n",
    "odds_df = pd.read_csv('../data/raw/historical_betting_odds_and_results.csv')\n",
    "odds_df = odds_df[['HomeTeam','AwayTeam','FTHG','FTAG','B365CH','B365CD','B365CA','B365H','B365D','B365A']].copy()\n",
    "odds_df['Match'] = odds_df['HomeTeam'] + ' ' + odds_df['FTHG'].astype(str) + '-' + odds_df['FTAG'].astype(str) + ' ' + odds_df['AwayTeam']\n",
    "\n",
    "xg_df = pd.read_csv('../data/raw/xG.csv')\n",
    "xg_df = xg_df[['Home','xG_Home','Score','xG_Away','Away']].copy()\n",
    "xg_df['Match'] = xg_df['Home'] + ' ' + xg_df['Score'] + ' ' + xg_df['Away']\n",
    "xg_df = xg_df.dropna()"
   ]
  },
  {
   "cell_type": "markdown",
   "id": "d21c6f71-3846-4a32-b0d5-b9c7dced0120",
   "metadata": {},
   "source": [
    "### Liverpool FC"
   ]
  },
  {
   "cell_type": "code",
   "execution_count": 126,
   "id": "c219246b-0643-4291-afc1-dc8342790656",
   "metadata": {},
   "outputs": [],
   "source": [
    "lfc_head_to_head_df = head_to_head_df[head_to_head_df.Match.str.contains('Liverpool')].drop_duplicates().copy()\n",
    "lfc_head_to_head_df.reset_index(drop=True, inplace=True)"
   ]
  },
  {
   "cell_type": "code",
   "execution_count": 127,
   "id": "a2799d96-1066-4108-befa-a4347e2caafc",
   "metadata": {},
   "outputs": [],
   "source": [
    "lfc_odds_df = odds_df[odds_df.Match.str.contains('Liverpool')].copy()\n",
    "lfc_odds_df.reset_index(drop=True, inplace=True)"
   ]
  },
  {
   "cell_type": "code",
   "execution_count": 128,
   "id": "d753c54e-f15a-4d4b-81fe-3e8a59b072ca",
   "metadata": {
    "scrolled": true
   },
   "outputs": [],
   "source": [
    "lfc_xg_df = xg_df[xg_df.Match.str.contains('Liverpool')].copy()"
   ]
  },
  {
   "cell_type": "code",
   "execution_count": 129,
   "id": "4acc4c86-768e-46b5-8619-3ba4a7898f8a",
   "metadata": {},
   "outputs": [],
   "source": [
    "# Function to find the closest match\n",
    "def find_best_match(row, choices):\n",
    "    match, score, temp = process.extractOne(row, choices)\n",
    "    return match if score >= 80 else None  # Use a threshold to avoid bad matches"
   ]
  },
  {
   "cell_type": "code",
   "execution_count": 130,
   "id": "f1e73470-b058-4bff-b3ff-d753e7b0983b",
   "metadata": {},
   "outputs": [],
   "source": [
    "# Apply the matching function\n",
    "lfc_head_to_head_df['Best Match'] = lfc_head_to_head_df['Match'].apply(lambda x: find_best_match(x, lfc_odds_df['Match']))"
   ]
  },
  {
   "cell_type": "code",
   "execution_count": 131,
   "id": "d3618b0c-f8bf-4dfc-92ba-a66265418410",
   "metadata": {},
   "outputs": [],
   "source": [
    "# Merge the two DataFrames on the matched names\n",
    "lfc_df = lfc_head_to_head_df.merge(lfc_odds_df, left_on='Best Match', right_on='Match', how='left', suffixes=('_a', '_b'))\n",
    "\n",
    "# Drop the intermediate 'Best Match' column if not needed\n",
    "lfc_df = lfc_df.drop(columns=['Best Match'])"
   ]
  },
  {
   "cell_type": "code",
   "execution_count": 132,
   "id": "9a85800d-8960-4292-911a-2d799bf46f16",
   "metadata": {},
   "outputs": [],
   "source": [
    "lfc_df['Best Match'] = lfc_df['Match_a'].apply(lambda x: find_best_match(x, lfc_xg_df['Match']))"
   ]
  },
  {
   "cell_type": "code",
   "execution_count": 133,
   "id": "91245278-d449-42cf-8bf8-c5661446277e",
   "metadata": {},
   "outputs": [],
   "source": [
    "# Merge the two DataFrames on the matched names\n",
    "lfc_df = lfc_df.merge(lfc_xg_df, left_on='Best Match', right_on='Match', how='left', suffixes=('_a', '_b'))\n",
    "\n",
    "# Drop the intermediate 'Best Match' column if not needed\n",
    "lfc_df = lfc_df.drop(columns=['Best Match'])"
   ]
  },
  {
   "cell_type": "code",
   "execution_count": 135,
   "id": "2df348ab-b571-4050-acef-08ad1b580fbe",
   "metadata": {},
   "outputs": [],
   "source": [
    "lfc_df.drop(columns=['Match_a','Match_b','Team1','Team2','HomeTeam','AwayTeam','FTHG','FTAG'],inplace=True)\n",
    "lfc_df = lfc_df[['Match','Home','Score','Away','Wins1','Draws','Wins2','B365CH','B365CD','B365CA','B365H','B365D','B365A','xG_Home','xG_Away']]"
   ]
  },
  {
   "cell_type": "code",
   "execution_count": 136,
   "id": "68309f1d-1efe-459c-a277-f84a039c9b1a",
   "metadata": {},
   "outputs": [],
   "source": [
    "lfc_df.to_csv('../data/processed/lfc_df.csv', index=False)"
   ]
  },
  {
   "cell_type": "code",
   "execution_count": 138,
   "id": "93181ec8-50bf-49dd-8c79-2ea6d41a7767",
   "metadata": {},
   "outputs": [
    {
     "data": {
      "text/html": [
       "<div>\n",
       "<style scoped>\n",
       "    .dataframe tbody tr th:only-of-type {\n",
       "        vertical-align: middle;\n",
       "    }\n",
       "\n",
       "    .dataframe tbody tr th {\n",
       "        vertical-align: top;\n",
       "    }\n",
       "\n",
       "    .dataframe thead th {\n",
       "        text-align: right;\n",
       "    }\n",
       "</style>\n",
       "<table border=\"1\" class=\"dataframe\">\n",
       "  <thead>\n",
       "    <tr style=\"text-align: right;\">\n",
       "      <th></th>\n",
       "      <th>Match</th>\n",
       "      <th>Home</th>\n",
       "      <th>Score</th>\n",
       "      <th>Away</th>\n",
       "      <th>Wins1</th>\n",
       "      <th>Draws</th>\n",
       "      <th>Wins2</th>\n",
       "      <th>B365CH</th>\n",
       "      <th>B365CD</th>\n",
       "      <th>B365CA</th>\n",
       "      <th>B365H</th>\n",
       "      <th>B365D</th>\n",
       "      <th>B365A</th>\n",
       "      <th>xG_Home</th>\n",
       "      <th>xG_Away</th>\n",
       "    </tr>\n",
       "  </thead>\n",
       "  <tbody>\n",
       "    <tr>\n",
       "      <th>0</th>\n",
       "      <td>Chelsea 1–1 Liverpool</td>\n",
       "      <td>Chelsea</td>\n",
       "      <td>1–1</td>\n",
       "      <td>Liverpool</td>\n",
       "      <td>10</td>\n",
       "      <td>15</td>\n",
       "      <td>11</td>\n",
       "      <td>3.1</td>\n",
       "      <td>3.60</td>\n",
       "      <td>2.15</td>\n",
       "      <td>2.90</td>\n",
       "      <td>3.40</td>\n",
       "      <td>2.38</td>\n",
       "      <td>1.4</td>\n",
       "      <td>1.3</td>\n",
       "    </tr>\n",
       "    <tr>\n",
       "      <th>1</th>\n",
       "      <td>Liverpool 3–1 Bournemouth</td>\n",
       "      <td>Liverpool</td>\n",
       "      <td>3–1</td>\n",
       "      <td>Bournemouth</td>\n",
       "      <td>15</td>\n",
       "      <td>1</td>\n",
       "      <td>2</td>\n",
       "      <td>1.2</td>\n",
       "      <td>7.50</td>\n",
       "      <td>12.00</td>\n",
       "      <td>1.20</td>\n",
       "      <td>7.00</td>\n",
       "      <td>13.00</td>\n",
       "      <td>3.0</td>\n",
       "      <td>1.3</td>\n",
       "    </tr>\n",
       "    <tr>\n",
       "      <th>2</th>\n",
       "      <td>Newcastle Utd 1–2 Liverpool</td>\n",
       "      <td>Newcastle Utd</td>\n",
       "      <td>1–2</td>\n",
       "      <td>Liverpool</td>\n",
       "      <td>4</td>\n",
       "      <td>6</td>\n",
       "      <td>14</td>\n",
       "      <td>2.2</td>\n",
       "      <td>3.75</td>\n",
       "      <td>3.10</td>\n",
       "      <td>2.20</td>\n",
       "      <td>3.75</td>\n",
       "      <td>3.00</td>\n",
       "      <td>2.0</td>\n",
       "      <td>0.9</td>\n",
       "    </tr>\n",
       "    <tr>\n",
       "      <th>3</th>\n",
       "      <td>Liverpool 3–0 Aston Villa</td>\n",
       "      <td>Liverpool</td>\n",
       "      <td>3–0</td>\n",
       "      <td>Aston Villa</td>\n",
       "      <td>14</td>\n",
       "      <td>3</td>\n",
       "      <td>6</td>\n",
       "      <td>1.6</td>\n",
       "      <td>4.75</td>\n",
       "      <td>4.75</td>\n",
       "      <td>1.65</td>\n",
       "      <td>4.50</td>\n",
       "      <td>4.50</td>\n",
       "      <td>2.5</td>\n",
       "      <td>0.7</td>\n",
       "    </tr>\n",
       "    <tr>\n",
       "      <th>4</th>\n",
       "      <td>Chelsea 1–1 Liverpool</td>\n",
       "      <td>Chelsea</td>\n",
       "      <td>1–1</td>\n",
       "      <td>Liverpool</td>\n",
       "      <td>4</td>\n",
       "      <td>1</td>\n",
       "      <td>13</td>\n",
       "      <td>3.1</td>\n",
       "      <td>3.60</td>\n",
       "      <td>2.15</td>\n",
       "      <td>2.90</td>\n",
       "      <td>3.40</td>\n",
       "      <td>2.38</td>\n",
       "      <td>1.4</td>\n",
       "      <td>1.3</td>\n",
       "    </tr>\n",
       "  </tbody>\n",
       "</table>\n",
       "</div>"
      ],
      "text/plain": [
       "                         Match           Home Score         Away  Wins1  \\\n",
       "0        Chelsea 1–1 Liverpool        Chelsea   1–1    Liverpool     10   \n",
       "1    Liverpool 3–1 Bournemouth      Liverpool   3–1  Bournemouth     15   \n",
       "2  Newcastle Utd 1–2 Liverpool  Newcastle Utd   1–2    Liverpool      4   \n",
       "3    Liverpool 3–0 Aston Villa      Liverpool   3–0  Aston Villa     14   \n",
       "4        Chelsea 1–1 Liverpool        Chelsea   1–1    Liverpool      4   \n",
       "\n",
       "   Draws  Wins2  B365CH  B365CD  B365CA  B365H  B365D  B365A  xG_Home  xG_Away  \n",
       "0     15     11     3.1    3.60    2.15   2.90   3.40   2.38      1.4      1.3  \n",
       "1      1      2     1.2    7.50   12.00   1.20   7.00  13.00      3.0      1.3  \n",
       "2      6     14     2.2    3.75    3.10   2.20   3.75   3.00      2.0      0.9  \n",
       "3      3      6     1.6    4.75    4.75   1.65   4.50   4.50      2.5      0.7  \n",
       "4      1     13     3.1    3.60    2.15   2.90   3.40   2.38      1.4      1.3  "
      ]
     },
     "execution_count": 138,
     "metadata": {},
     "output_type": "execute_result"
    }
   ],
   "source": [
    "lfc_df.head()"
   ]
  },
  {
   "cell_type": "code",
   "execution_count": null,
   "id": "f0307c2f-542d-47be-8682-9c175bb45f1d",
   "metadata": {},
   "outputs": [],
   "source": []
  }
 ],
 "metadata": {
  "kernelspec": {
   "display_name": "Python 3 (ipykernel)",
   "language": "python",
   "name": "python3"
  },
  "language_info": {
   "codemirror_mode": {
    "name": "ipython",
    "version": 3
   },
   "file_extension": ".py",
   "mimetype": "text/x-python",
   "name": "python",
   "nbconvert_exporter": "python",
   "pygments_lexer": "ipython3",
   "version": "3.13.0"
  }
 },
 "nbformat": 4,
 "nbformat_minor": 5
}
